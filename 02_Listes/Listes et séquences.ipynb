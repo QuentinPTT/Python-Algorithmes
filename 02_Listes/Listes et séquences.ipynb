{
 "cells": [
  {
   "cell_type": "markdown",
   "metadata": {},
   "source": [
    "<h1> Listes et séquences </h1>"
   ]
  },
  {
   "cell_type": "markdown",
   "metadata": {},
   "source": [
    "<h3> > Nombres d'occurences < </h3>"
   ]
  },
  {
   "cell_type": "code",
   "execution_count": 3,
   "metadata": {},
   "outputs": [
    {
     "data": {
      "text/plain": [
       "2"
      ]
     },
     "execution_count": 3,
     "metadata": {},
     "output_type": "execute_result"
    }
   ],
   "source": [
    "def nombresOccurences(l,x):\n",
    "    occurences = 0\n",
    "    for k in range(len(l)):\n",
    "        if l[k] == x:\n",
    "            occurences+=1\n",
    "    return occurences\n",
    "\n",
    "l=[3,2,5,1,6,1]\n",
    "\n",
    "nombresOccurences(l,1)"
   ]
  },
  {
   "cell_type": "markdown",
   "metadata": {},
   "source": [
    "<h3> > Maximum et minimum d'une liste < </h3>"
   ]
  },
  {
   "cell_type": "code",
   "execution_count": 5,
   "metadata": {},
   "outputs": [
    {
     "name": "stdout",
     "output_type": "stream",
     "text": [
      "27 1\n"
     ]
    }
   ],
   "source": [
    "def maxListe(l):\n",
    "    x = l[0]\n",
    "    for k in range(1,len(l)):\n",
    "        if l[k]>x:\n",
    "            x=l[k]\n",
    "    return x\n",
    "\n",
    "def minListe(l):\n",
    "    x = l[0]\n",
    "    for k in range(1,len(l)):\n",
    "        if l[k]<x:\n",
    "            x=l[k]\n",
    "    return x\n",
    "\n",
    "l=[10,3,6,27,9,3,1]\n",
    "\n",
    "print(maxListe(l),minListe(l))"
   ]
  },
  {
   "cell_type": "markdown",
   "metadata": {},
   "source": [
    "<h3> > Map d'une liste < </h3>"
   ]
  },
  {
   "cell_type": "code",
   "execution_count": 7,
   "metadata": {},
   "outputs": [
    {
     "data": {
      "text/plain": [
       "[0, 1, 4, 9, 16]"
      ]
     },
     "execution_count": 7,
     "metadata": {},
     "output_type": "execute_result"
    }
   ],
   "source": [
    "def f(x):\n",
    "    return x**2\n",
    "\n",
    "def mapListe(l,f):\n",
    "    for k in range(len(l)):\n",
    "        l[k] = f(l[k])\n",
    "    return l\n",
    "\n",
    "l=[x for x in range(5)]\n",
    "\n",
    "mapListe(l,f)"
   ]
  },
  {
   "cell_type": "code",
   "execution_count": null,
   "metadata": {},
   "outputs": [],
   "source": []
  },
  {
   "cell_type": "code",
   "execution_count": null,
   "metadata": {},
   "outputs": [],
   "source": []
  },
  {
   "cell_type": "code",
   "execution_count": null,
   "metadata": {},
   "outputs": [],
   "source": []
  }
 ],
 "metadata": {
  "kernelspec": {
   "display_name": "Python 3",
   "language": "python",
   "name": "python3"
  },
  "language_info": {
   "codemirror_mode": {
    "name": "ipython",
    "version": 3
   },
   "file_extension": ".py",
   "mimetype": "text/x-python",
   "name": "python",
   "nbconvert_exporter": "python",
   "pygments_lexer": "ipython3",
   "version": "3.8.5"
  }
 },
 "nbformat": 4,
 "nbformat_minor": 4
}
